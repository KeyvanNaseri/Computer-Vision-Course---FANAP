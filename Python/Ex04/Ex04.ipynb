{
 "cells": [
  {
   "cell_type": "code",
   "execution_count": 88,
   "id": "a6c0d606",
   "metadata": {},
   "outputs": [],
   "source": [
    "class Animal:\n",
    "\n",
    "    def __init__(self, Category, Breed, Size, Age, Color):\n",
    "        self.Category = Category\n",
    "        self.Breed = Breed\n",
    "        self.Size = Size\n",
    "        self.Age = Age\n",
    "        self.Color = Color\n",
    "        \n",
    "    def Eat(self):\n",
    "        return 'the Animal which is {} is eating'.format(self.Color)\n",
    "    \n",
    "    def Sleep(self):\n",
    "        return 'I Sleep at night'\n",
    "   \n",
    "    def Sit(self):\n",
    "        return 'ok, I will Sit'\n",
    "    \n",
    "    def Run(self):\n",
    "        return 'oh again, okay I will run'\n",
    "    \n",
    "    def __str__(self):\n",
    "        return f'its Category is {self.Category}, It is {self.Size} and {self.Color}, the Animal is {self.Age} years old'\n",
    "    \n",
    "\n",
    "class Pet(Animal):\n",
    "   \n",
    "    def __init__(self, Category, Breed, Size, Age, Color ,Name, Owner, Health_card_Num):\n",
    "        super().__init__(Category, Breed, Size, Age, Color)\n",
    "        self.Name = Name\n",
    "        self.Owner = Owner\n",
    "        self.Health_card_Num = Health_card_Num\n",
    "    \n",
    "    def Hug(self):\n",
    "        return 'I am gonna hug you {}'.format(self.Owner)\n",
    "    \n",
    "    def Bring(self):\n",
    "        return 'Yes sir'\n",
    "    \n",
    "    def __str__(self):\n",
    "        return f\"I am a pet animal, my Breed is from {self.Breed}, my name is {self.Name}, My owner is {self.Owner},\\\n",
    " my health card number is {self.Health_card_Num} and I'm {self.Age} years old\"\n",
    "    \n",
    "\n",
    "class Wild(Animal):\n",
    "   \n",
    "    def __init__(self, Category, Breed, Size, Age, Color ,Jungle_Name):\n",
    "        super().__init__(Category, Breed, Size, Age, Color)\n",
    "        self.Jungle_Name = Jungle_Name\n",
    "    \n",
    "    def Kill(self):\n",
    "        return '{} is killing'.format(self.Jungle_Name)\n",
    "    \n",
    "    def Hunt(self):\n",
    "        return 'easy peasy'\n",
    "   \n",
    "    def __str__(self):\n",
    "        return f\"I am a wild animal, my Breed is from {self.Breed}, my jungle name is {self.Jungle_Name},\\\n",
    " and I'm {self.Age} years old\"\n",
    "    "
   ]
  },
  {
   "cell_type": "code",
   "execution_count": 89,
   "id": "9b343af5",
   "metadata": {},
   "outputs": [
    {
     "data": {
      "text/plain": [
       "'its Category is Mammalia, It is 5 and white, the Animal is 2 years old'"
      ]
     },
     "execution_count": 89,
     "metadata": {},
     "output_type": "execute_result"
    }
   ],
   "source": [
    "animal1 = Animal('Mammalia', 'Cat', 5, 2, 'white')\n",
    "str(animal1)"
   ]
  },
  {
   "cell_type": "code",
   "execution_count": 90,
   "id": "03ccc2e1",
   "metadata": {},
   "outputs": [
    {
     "data": {
      "text/plain": [
       "'the Animal which is white is eating'"
      ]
     },
     "execution_count": 90,
     "metadata": {},
     "output_type": "execute_result"
    }
   ],
   "source": [
    "animal1.Eat()"
   ]
  },
  {
   "cell_type": "code",
   "execution_count": 91,
   "id": "039e9387",
   "metadata": {},
   "outputs": [
    {
     "data": {
      "text/plain": [
       "\"I am a pet animal, my Breed is from Bulldogs, my name is Max, My owner is Mr.Naseri, my health card number is 12346 and I'm 2 years old\""
      ]
     },
     "execution_count": 91,
     "metadata": {},
     "output_type": "execute_result"
    }
   ],
   "source": [
    "pet1 = Pet('Mammalia', 'Bulldogs', 5, 2, 'white', 'Max', 'Mr.Naseri', '12346')\n",
    "str(pet1)"
   ]
  },
  {
   "cell_type": "code",
   "execution_count": 92,
   "id": "0538cec8",
   "metadata": {},
   "outputs": [
    {
     "data": {
      "text/plain": [
       "'I am gonna hug you Mr.Naseri'"
      ]
     },
     "execution_count": 92,
     "metadata": {},
     "output_type": "execute_result"
    }
   ],
   "source": [
    "pet1.Hug()"
   ]
  },
  {
   "cell_type": "code",
   "execution_count": 93,
   "id": "d78b9949",
   "metadata": {},
   "outputs": [
    {
     "data": {
      "text/plain": [
       "\"I am a wild animal, my Breed is from Cats, my jungle name is Tiger, and I'm 3 years old\""
      ]
     },
     "execution_count": 93,
     "metadata": {},
     "output_type": "execute_result"
    }
   ],
   "source": [
    "wild1 = Wild('Mammalia', 'Cats', 10, 3, 'Black', 'Tiger')\n",
    "str(wild1)"
   ]
  },
  {
   "cell_type": "code",
   "execution_count": 94,
   "id": "673b9edd",
   "metadata": {},
   "outputs": [
    {
     "data": {
      "text/plain": [
       "'Tiger is killing'"
      ]
     },
     "execution_count": 94,
     "metadata": {},
     "output_type": "execute_result"
    }
   ],
   "source": [
    "wild1.Kill()"
   ]
  }
 ],
 "metadata": {
  "kernelspec": {
   "display_name": "Python 3 (ipykernel)",
   "language": "python",
   "name": "python3"
  },
  "language_info": {
   "codemirror_mode": {
    "name": "ipython",
    "version": 3
   },
   "file_extension": ".py",
   "mimetype": "text/x-python",
   "name": "python",
   "nbconvert_exporter": "python",
   "pygments_lexer": "ipython3",
   "version": "3.9.16"
  }
 },
 "nbformat": 4,
 "nbformat_minor": 5
}
