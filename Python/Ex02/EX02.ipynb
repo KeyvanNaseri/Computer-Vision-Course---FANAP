{
 "cells": [
  {
   "cell_type": "markdown",
   "id": "9a91006c",
   "metadata": {},
   "source": [
    "### Exercise 01"
   ]
  },
  {
   "cell_type": "code",
   "execution_count": 1,
   "id": "933bd2be",
   "metadata": {},
   "outputs": [
    {
     "name": "stdout",
     "output_type": "stream",
     "text": [
      "1: The sorted list is [19, 19, 20, 22, 24, 24, 24, 25, 25, 26] and the min age is 19 and the max age is 26\n",
      "2: [19, 19, 20, 22, 24, 24, 24, 25, 25, 26, 19, 26]\n",
      "3: [19, 19, 19, 20, 22, 24, 24, 24, 25, 25, 26, 26]\n",
      " The Median age is 24.0\n",
      "4: The Average age is 22.75\n",
      "5: The range age is 7\n",
      "6: (max-average) is lesser than (min-average)\n"
     ]
    }
   ],
   "source": [
    "ages = [19, 22, 19, 24, 20, 25, 26, 24, 25, 24]\n",
    "\n",
    "#1\n",
    "ages.sort(); print('1: The sorted list is {} and the min age is {} and the max age is {}'.format(ages,ages[0],ages[-1]))\n",
    "#2\n",
    "ages.append(min(ages));ages.append(max(ages)); print('2: {}'.format(ages))\n",
    "#3\n",
    "ages.sort()\n",
    "if len(ages)%2==1:\n",
    "    median = ages[(len(ages)-1)//2]\n",
    "else:\n",
    "    median = (ages[len(ages)//2] + ages[len(ages)//2-1])/2\n",
    "print('3: {}'.format(ages))\n",
    "print(' The Median age is {}'.format(median))\n",
    "#4\n",
    "average_sum = sum(ages)/len(ages); print('4: The Average age is {}'.format(average_sum))\n",
    "#5\n",
    "range_ages = max(ages)-min(ages); print('5: The range age is {}'.format(range_ages))\n",
    "#6\n",
    "Compare = abs(max(ages) - average_sum) < abs(min(ages) - average_sum)\n",
    "if Compare == True:\n",
    "    print('6: (max-average) is lesser than (min-average)')\n",
    "else:\n",
    "    print('6: (max-average) is greater than (min-average)')"
   ]
  },
  {
   "cell_type": "markdown",
   "id": "188ec7f1",
   "metadata": {},
   "source": [
    "### Exercise 02"
   ]
  },
  {
   "cell_type": "code",
   "execution_count": 34,
   "id": "0dbaeb8b",
   "metadata": {},
   "outputs": [
    {
     "name": "stdout",
     "output_type": "stream",
     "text": [
      "1: ()\n",
      "2: brothers:('kaveh', 'kamran') , sisters:('kiana',)\n",
      "3: siblings:('kaveh', 'kamran', 'kiana')\n",
      "4: The Number of Siblings:3\n",
      "5: family_members:('kaveh', 'kamran', 'kiana', 'farideh', 'hasan')\n"
     ]
    }
   ],
   "source": [
    "#1\n",
    "a = (); print('1: {}'.format(a))\n",
    "#2\n",
    "brothers = ('kaveh', 'kamran'); sisters = ('kiana',); print('2: brothers:{} , sisters:{}'.format(brothers,sisters))\n",
    "#3\n",
    "siblings = brothers + sisters; print('3: siblings:{}'.format(siblings))\n",
    "#4\n",
    "print('4: The Number of Siblings:{}'.format(len(siblings)))\n",
    "#5\n",
    "family_members = siblings + ('farideh','hasan'); print('5: family_members:{}'.format(family_members))"
   ]
  },
  {
   "cell_type": "markdown",
   "id": "18797d29",
   "metadata": {},
   "source": [
    "### Exercise 03"
   ]
  },
  {
   "cell_type": "code",
   "execution_count": 6,
   "id": "0b64f7c4",
   "metadata": {},
   "outputs": [
    {
     "name": "stdout",
     "output_type": "stream",
     "text": [
      "1: Student:{'first_name': 'Keyvan', 'last_name': 'Naseri', 'gender': 'male', 'age': 26, 'skills': ['python programmer ,10 finger typist'], 'country': 'Iran', 'city': 'Babol', 'address': 'Amirkabir st'} \n",
      "\n",
      "2: Length of student dictionary: 8 \n",
      "\n",
      "3: Student skills: ['python programmer ,10 finger typist'] ,  type: <class 'list'> \n",
      "\n",
      "4: Student skills:['python programmer ,10 finger typist', 'Critical Thinker'] \n",
      "\n",
      "5: keys of the dict:['first_name', 'last_name', 'gender', 'age', 'skills', 'country', 'city', 'address'] \n",
      "\n",
      "6: values:['Keyvan', 'Naseri', 'male', 26, ['python programmer ,10 finger typist', 'Critical Thinker'], 'Iran', 'Babol', 'Amirkabir st'] \n",
      "\n",
      "7: items:[('first_name', 'Keyvan'), ('last_name', 'Naseri'), ('gender', 'male'), ('age', 26), ('skills', ['python programmer ,10 finger typist', 'Critical Thinker']), ('country', 'Iran'), ('city', 'Babol'), ('address', 'Amirkabir st')] \n",
      "\n",
      "8: student: {'first_name': 'Keyvan', 'last_name': 'Naseri', 'gender': 'male', 'age': 26, 'country': 'Iran', 'city': 'Babol', 'address': 'Amirkabir st'} \n",
      "\n",
      "9: {}\n"
     ]
    }
   ],
   "source": [
    "#1\n",
    "student_dictionary = {'first_name':'Keyvan', 'last_name':'Naseri', 'gender':'male', 'age':26, 'skills':\\\n",
    "                      ['python programmer ,10 finger typist'], 'country':'Iran', 'city':'Babol' , 'address': 'Amirkabir st'}\n",
    "print('1: Student:{} \\n'.format(student_dictionary))\n",
    "#2\n",
    "print('2: Length of student dictionary: {} \\n'.format(len(student_dictionary)))\n",
    "#3\n",
    "print('3: Student skills: {} ,  type: {} \\n'.format(student_dictionary['skills'],type(student_dictionary['skills'])))\n",
    "#4\n",
    "student_dictionary['skills'].append('Critical Thinker'); print('4: Student skills:{} \\n'.format(student_dictionary['skills']))\n",
    "#5\n",
    "print('5: keys of the dict:{} \\n'.format(list(student_dictionary.keys())))\n",
    "#6\n",
    "print('6: values:{} \\n'.format(list(student_dictionary.values())))\n",
    "#7\n",
    "print('7: items:{} \\n'.format(list(student_dictionary.items())))\n",
    "#8\n",
    "del student_dictionary['skills']; print('8: student: {} \\n'.format(student_dictionary))\n",
    "#9\n",
    "student_dictionary.clear(); print('9: {}'.format(student_dictionary))"
   ]
  },
  {
   "cell_type": "markdown",
   "id": "06a621eb",
   "metadata": {},
   "source": [
    "###  Exercise 04"
   ]
  },
  {
   "cell_type": "code",
   "execution_count": 7,
   "id": "c48ecd6d",
   "metadata": {},
   "outputs": [
    {
     "name": "stdout",
     "output_type": "stream",
     "text": [
      "1: length of the set: 7\n",
      "2: it_companies: {'Twitter', 'Microsoft', 'Apple', 'Oracle', 'Google', 'Facebook', 'Amazon', 'IBM'}\n",
      "3: it_companies: {'Google', 'Facebook', 'Alibaba', 'Apple', 'Digikala', 'Twitter', 'Snapp', 'Oracle', 'IBM', 'Microsoft', 'Amazon'}\n",
      "4: it_companies: {'Google', 'Facebook', 'Alibaba', 'Apple', 'Digikala', 'Twitter', 'Snapp', 'Oracle', 'Microsoft', 'Amazon'}\n",
      "5: the remove() method will raise an error if the specified item does not exist, and the discard() method will not.\n"
     ]
    }
   ],
   "source": [
    "it_companies = {'Facebook', 'Google', 'Microsoft', 'Apple', 'IBM', 'Oracle', 'Amazon'}\n",
    "\n",
    "#1\n",
    "print('1: length of the set: {}'.format(len(it_companies)))\n",
    "#2\n",
    "it_companies.add('Twitter'); print('2: it_companies: {}'.format(it_companies))\n",
    "#3\n",
    "New_comp = ['Digikala','Snapp','Alibaba']; it_companies.update(New_comp); print('3: it_companies: {}'.format(it_companies))\n",
    "#4\n",
    "new = it_companies.remove('IBM'); print('4: it_companies: {}'.format(it_companies))\n",
    "#5\n",
    "print('5: the remove() method will raise an error if the specified item does not exist, and the discard() method will not.')"
   ]
  },
  {
   "cell_type": "markdown",
   "id": "aa3f566c",
   "metadata": {},
   "source": [
    "### Exerciese 05"
   ]
  },
  {
   "cell_type": "code",
   "execution_count": 39,
   "id": "0a7ef175",
   "metadata": {},
   "outputs": [
    {
     "name": "stdout",
     "output_type": "stream",
     "text": [
      "Number of Unique Words: 10\n"
     ]
    }
   ],
   "source": [
    "Text = 'I am a teacher and I love to inspire and teach people'\n",
    "print('Number of Unique Words: {}'.format(len(set(Text.split()))))"
   ]
  },
  {
   "cell_type": "markdown",
   "id": "d660b0d5",
   "metadata": {},
   "source": [
    "### Exercise 06"
   ]
  },
  {
   "cell_type": "code",
   "execution_count": 1,
   "id": "44127208",
   "metadata": {
    "scrolled": true
   },
   "outputs": [
    {
     "name": "stdout",
     "output_type": "stream",
     "text": [
      "{'f': 1, 'e': 1, 'i': 1, 'l': 1, 'g': 1, 'o': 1, 'r': 1}\n"
     ]
    }
   ],
   "source": [
    "def count_charac(input):\n",
    "    w = input.lower()\n",
    "    a = set(w); b = list(w); c = {}\n",
    "    for items in a:\n",
    "        c[items] = b.count(items) \n",
    "    return c\n",
    "dict = count_charac('Filoger'); print(dict)"
   ]
  },
  {
   "cell_type": "markdown",
   "id": "674249ec",
   "metadata": {},
   "source": [
    "### Exercise 07"
   ]
  },
  {
   "cell_type": "code",
   "execution_count": 2,
   "id": "8cf623c8",
   "metadata": {},
   "outputs": [
    {
     "name": "stdout",
     "output_type": "stream",
     "text": [
      "L = [1, 3, 5, 7, 9]\n"
     ]
    }
   ],
   "source": [
    "List = [1, 2, 3, 4, 5, 6, 7, 8, 9]\n",
    "\n",
    "def Odd_list(input):\n",
    "    L = []\n",
    "    for num in List:\n",
    "        if num%2==1:\n",
    "            L.append(num)\n",
    "    return L\n",
    "\n",
    "L = Odd_list(List); print('L = {}'.format(L))"
   ]
  },
  {
   "cell_type": "markdown",
   "id": "da0efe51",
   "metadata": {},
   "source": [
    "### Exercise 08"
   ]
  },
  {
   "cell_type": "code",
   "execution_count": 33,
   "id": "a4db9c13",
   "metadata": {},
   "outputs": [
    {
     "name": "stdout",
     "output_type": "stream",
     "text": [
      "sorted dictionary: [{'name': 'Azam', 'age': 14}, {'name': 'Sanaz', 'age': 14}, {'name': 'Zahra', 'age': 16}, {'name': 'Zahra', 'age': 17}, {'name': 'AmirHossein', 'age': 18}, {'name': 'Shayan', 'age': 18}]\n"
     ]
    }
   ],
   "source": [
    "employees = [{\"name\": \"Sanaz\", \"age\": 14}, {\"name\": \"AmirHossein\", \"age\": 18}, {\"name\": \"Azam\", \"age\":14}, \\\n",
    "             {\"name\": \"Zahra\", \"age\": 16}, {\"name\": \"Shayan\", \"age\": 18}, {\"name\": \"Zahra\", \"age\": 17}]\n",
    "def func_emp(employees):\n",
    "    employees.sort(key = lambda employee:employee['name'])\n",
    "    employees.sort(key = lambda employee:employee['age'])\n",
    "    return employees\n",
    "\n",
    "print('sorted dictionary: {}'.format(func_emp(employees)))"
   ]
  },
  {
   "cell_type": "markdown",
   "id": "018472e1",
   "metadata": {},
   "source": [
    "### Exercise 09"
   ]
  },
  {
   "cell_type": "code",
   "execution_count": 4,
   "id": "e1851905",
   "metadata": {},
   "outputs": [
    {
     "name": "stdout",
     "output_type": "stream",
     "text": [
      "0 1 1 2 3 5 8 "
     ]
    }
   ],
   "source": [
    "def Print_Fibonacci(num):\n",
    "    \n",
    "    def fibona(n):\n",
    "        if n == 1:\n",
    "            result = 0\n",
    "        elif n == 2:\n",
    "            result = 1\n",
    "        else:\n",
    "            result = fibona(n-2) + fibona(n-1)\n",
    "        return result\n",
    "    \n",
    "    for i in range(num):\n",
    "        print(fibona(i+1), end=\" \")\n",
    "\n",
    "Print_Fibonacci(7)"
   ]
  },
  {
   "cell_type": "markdown",
   "id": "7b3f14c3",
   "metadata": {},
   "source": [
    "### Exercise 10"
   ]
  },
  {
   "cell_type": "code",
   "execution_count": 31,
   "id": "69dd26d5",
   "metadata": {},
   "outputs": [
    {
     "name": "stdout",
     "output_type": "stream",
     "text": [
      "'CV'\n"
     ]
    }
   ],
   "source": [
    "dict = {'Python': 2, 'DIP': 7, 'DL': 8}\n",
    "\n",
    "try:\n",
    "    print (dict['CV'])\n",
    "except KeyError as error:\n",
    "    print(error)\n",
    "except Exception as ex:\n",
    "    print(ex)"
   ]
  },
  {
   "cell_type": "markdown",
   "id": "661dbb92",
   "metadata": {},
   "source": [
    "### Exercise 11"
   ]
  },
  {
   "cell_type": "code",
   "execution_count": 32,
   "id": "3c776e18",
   "metadata": {},
   "outputs": [
    {
     "name": "stdout",
     "output_type": "stream",
     "text": [
      "invalid literal for int() with base 10: '45145GT'\n"
     ]
    }
   ],
   "source": [
    "code = '45145GT'\n",
    "\n",
    "try:\n",
    "    int(code)\n",
    "except ValueError as verror:\n",
    "    print(verror)\n",
    "except Exception as ex:\n",
    "    print(ex)"
   ]
  },
  {
   "cell_type": "markdown",
   "id": "b692bbfe",
   "metadata": {},
   "source": [
    "### Exercise 12"
   ]
  },
  {
   "cell_type": "code",
   "execution_count": 42,
   "id": "9c6ba159",
   "metadata": {},
   "outputs": [],
   "source": [
    "list = [1, 7, 'test', 'apple', 'banana', 'cherry', 785, 19, 'Python', 78.0, True, 7854.15]\n",
    "\n",
    "f = open('Ex_01_Files.txt', 'w')\n",
    "for element in list:\n",
    "    f.write(str(element) + '\\n')\n",
    "f.close()"
   ]
  },
  {
   "cell_type": "markdown",
   "id": "d86b1b42",
   "metadata": {},
   "source": [
    "### Exercise 13"
   ]
  },
  {
   "cell_type": "code",
   "execution_count": 4,
   "id": "630f68b6",
   "metadata": {},
   "outputs": [
    {
     "name": "stdout",
     "output_type": "stream",
     "text": [
      "The file exists in the directory\n",
      "Number's List: ['1', '7', '785', '19', '78.0', '7854.15']\n",
      "Word's List: ['test', 'apple', 'banana', 'cherry', 'Python', 'True']\n"
     ]
    }
   ],
   "source": [
    "import os\n",
    "Path = 'Ex_01_Files.txt' \n",
    "if os.path.exists(Path):\n",
    "    print('The file exists in the directory')\n",
    "\n",
    "try:\n",
    "    f = open(Path, 'r')\n",
    "    list_1 = f.readlines()\n",
    "    f.close\n",
    "    \n",
    "    list_2 = [x.strip('\\n') for x in list_1]\n",
    "    list_3 = [x.strip() for x in list_2]\n",
    "    \n",
    "    list_number = list(filter(lambda x:x.replace(\".\", \"\").isnumeric(), list_2))\n",
    "    list_string = list(filter(lambda x:x.replace(\".\", \"\").isnumeric()==False, list_2))\n",
    "    \n",
    "    print(\"Number's List: {}\\nWord's List: {}\".format(list_number,list_string))\n",
    "    \n",
    "except FileNotFoundError as feror:\n",
    "    print(feror)\n",
    "except Exception as ex:\n",
    "    print(ex)"
   ]
  },
  {
   "cell_type": "code",
   "execution_count": 59,
   "id": "ef3bd5c3",
   "metadata": {},
   "outputs": [
    {
     "name": "stdout",
     "output_type": "stream",
     "text": [
      "The file exists in the directory\n",
      "Number's List: ['1', '7', '785', '19', '78.0', '7854.15']\n",
      "Word's List: ['test', 'apple', 'banana', 'cherry', 'Python', 'True']\n"
     ]
    }
   ],
   "source": [
    "# Another Way\n",
    "\n",
    "import os\n",
    "Path = 'Ex_01_Files.txt' \n",
    "if os.path.exists(Path):\n",
    "    print('The file exists in the directory')\n",
    "\n",
    "try:\n",
    "    f = open(Path, 'r')\n",
    "    list1 = f.readlines()\n",
    "    f.close\n",
    "    \n",
    "    list2 = [x.strip('\\n') for x in list1]\n",
    "    list_3 = [x.strip() for x in list_2]\n",
    "    \n",
    "    list_number = []; list_string = []\n",
    "    \n",
    "    for item in list3:\n",
    "        \n",
    "        flag = True\n",
    "        \n",
    "        try:\n",
    "            int(item.replace(\".\", \"\"))\n",
    "        except:\n",
    "            flag = False\n",
    "        \n",
    "        if flag == True:\n",
    "            list_number.append(item)\n",
    "        else:\n",
    "            list_string.append(item)\n",
    "        \n",
    "    print(\"Number's List: {}\\nWord's List: {}\".format(list_number,list_string))\n",
    "    \n",
    "except FileNotFoundError as feror:\n",
    "    print(feror)\n",
    "except Exception as ex:\n",
    "    print(ex)"
   ]
  }
 ],
 "metadata": {
  "kernelspec": {
   "display_name": "Python 3 (ipykernel)",
   "language": "python",
   "name": "python3"
  },
  "language_info": {
   "codemirror_mode": {
    "name": "ipython",
    "version": 3
   },
   "file_extension": ".py",
   "mimetype": "text/x-python",
   "name": "python",
   "nbconvert_exporter": "python",
   "pygments_lexer": "ipython3",
   "version": "3.9.16"
  }
 },
 "nbformat": 4,
 "nbformat_minor": 5
}
