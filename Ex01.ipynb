{
 "cells": [
  {
   "cell_type": "markdown",
   "metadata": {
    "tags": [
     "parameters"
    ]
   },
   "source": [
    "### Exercise 01"
   ]
  },
  {
   "cell_type": "code",
   "execution_count": 2,
   "metadata": {},
   "outputs": [
    {
     "name": "stdout",
     "output_type": "stream",
     "text": [
      "The Type of the \"Filoger\" is string\n",
      "The Type of the \"19\" is string\n",
      "The Type of the 18 is integer\n",
      "The Type of the 13.0 is float\n",
      "The Type of the True is boolean\n"
     ]
    }
   ],
   "source": [
    "print('The Type of the \"Filoger\" is {f}'.format(f = 'string'))\n",
    "print('The Type of the \"19\" is {f}'.format(f = 'string'))\n",
    "print('The Type of the 18 is {f}'.format(f = 'integer'))\n",
    "print('The Type of the 13.0 is {f}'.format(f = 'float'))\n",
    "print('The Type of the True is {f}'.format(f = 'boolean'))"
   ]
  },
  {
   "cell_type": "markdown",
   "metadata": {
    "tags": []
   },
   "source": [
    "### Exercise 02"
   ]
  },
  {
   "cell_type": "code",
   "execution_count": 3,
   "metadata": {},
   "outputs": [
    {
     "name": "stdout",
     "output_type": "stream",
     "text": [
      "The Integer Conversion of the \"Filoger\" is None\n",
      "The Integer Conversion of the \"19\" is 19\n",
      "The Integer Conversion of the 18 is 18\n",
      "The Integer Conversion of the 13.0 is 13\n",
      "The Integer Conversion of the True is 1\n"
     ]
    }
   ],
   "source": [
    "print('The Integer Conversion of the \"Filoger\" is {f}'.format(f = \"None\"))\n",
    "print('The Integer Conversion of the \"19\" is {f}'.format(f = int(\"19\")))\n",
    "print('The Integer Conversion of the 18 is {f}'.format(f = int(18)))\n",
    "print('The Integer Conversion of the 13.0 is {f}'.format(f = int(13.0)))\n",
    "print('The Integer Conversion of the True is {f}'.format(f = int(True)))"
   ]
  },
  {
   "cell_type": "markdown",
   "metadata": {},
   "source": [
    "### Exercise 03"
   ]
  },
  {
   "cell_type": "code",
   "execution_count": 4,
   "metadata": {},
   "outputs": [
    {
     "name": "stdout",
     "output_type": "stream",
     "text": [
      "Filoger:\n",
      "Elapsed time is 0.000119 seconds.\n",
      "'19':\n",
      "Elapsed time is 0.000113 seconds.\n",
      "18:\n",
      "Elapsed time is 0.000075 seconds.\n",
      "13.0:\n",
      "Elapsed time is 0.000128 seconds.\n",
      "True:\n",
      "Elapsed time is 0.000236 seconds.\n"
     ]
    }
   ],
   "source": [
    "from pytictoc import TicToc\n",
    "t = TicToc()\n",
    "print(\"Filoger:\"); t.tic(); type(\"Filoger\"); t.toc()\n",
    "print(\"'19':\"); t.tic(); type(\"19\"); t.toc()\n",
    "print(\"18:\"); t.tic(); type(18); t.toc()\n",
    "print(\"13.0:\"); t.tic(); type(13.0); t.toc()\n",
    "print(\"True:\"); t.tic(); type(True); t.toc()"
   ]
  },
  {
   "cell_type": "markdown",
   "metadata": {},
   "source": [
    "### Exercise 04"
   ]
  },
  {
   "cell_type": "code",
   "execution_count": 6,
   "metadata": {},
   "outputs": [
    {
     "name": "stdout",
     "output_type": "stream",
     "text": [
      "Circle area is 163312.415\n"
     ]
    }
   ],
   "source": [
    "Diameter = float(input('Enter the Diameter value:'))\n",
    "Area = (3.14159*Diameter**2)/4\n",
    "print(\"Circle area is {r:1.3f}\".format(r=Area))"
   ]
  },
  {
   "cell_type": "markdown",
   "metadata": {},
   "source": [
    "### Exercise 05"
   ]
  },
  {
   "cell_type": "code",
   "execution_count": 9,
   "metadata": {},
   "outputs": [
    {
     "name": "stdout",
     "output_type": "stream",
     "text": [
      "Volume of cuboid is 125.00 and Surface area of cuboid is 150.000!\n"
     ]
    }
   ],
   "source": [
    "width = float(input('Enter the Width value:'))\n",
    "height = float(input('Enter the Height value:'))\n",
    "length = float(input('Enter the Length value:'))\n",
    "volume = width*height*length\n",
    "surface = 2*(length*width + width*height + length*height)\n",
    "print(\"Volume of cuboid is {v:1.2f} and Surface area of cuboid is {s:1.3f}!\".format(v = volume, s = surface))"
   ]
  },
  {
   "cell_type": "markdown",
   "metadata": {},
   "source": [
    "### Exercise 06"
   ]
  },
  {
   "cell_type": "code",
   "execution_count": 10,
   "metadata": {},
   "outputs": [
    {
     "name": "stdout",
     "output_type": "stream",
     "text": [
      "sum=12, division=2, substraction=4, multiplication=32\n"
     ]
    }
   ],
   "source": [
    "N1,N2 = [float(x) for x in input('Enter Two Numbers with a space between:').split()]\n",
    "print('sum={s}, division={d}, substraction={sub}, multiplication={m}' \\\n",
    "       .format(s=int(N1+N2),d=int(N1/N2),sub=int(N1-N2),m=int(N1*N2)))"
   ]
  },
  {
   "cell_type": "markdown",
   "metadata": {},
   "source": [
    "### Exercise 07"
   ]
  },
  {
   "cell_type": "code",
   "execution_count": 12,
   "metadata": {},
   "outputs": [
    {
     "name": "stdout",
     "output_type": "stream",
     "text": [
      "result is \"Fanap filoger\"\n"
     ]
    }
   ],
   "source": [
    "str1, str2 = input('Write two separate strings with a space that separates them:').split()\n",
    "print('result is ' + '\"' + str1 + ' ' + str2 + '\"')"
   ]
  },
  {
   "cell_type": "markdown",
   "metadata": {},
   "source": [
    "### Exercise 08"
   ]
  },
  {
   "cell_type": "code",
   "execution_count": 13,
   "metadata": {},
   "outputs": [
    {
     "name": "stdout",
     "output_type": "stream",
     "text": [
      "5 degree Fahrenheit is equal to -15.0 degree Celsius.\n"
     ]
    }
   ],
   "source": [
    "fn = float(input('Enter Temperature in Fahrenheit:'))\n",
    "cel = (fn - 32) * 5/9\n",
    "print('{fn} degree Fahrenheit is equal to {cel:1.1f} degree Celsius.'.format(fn=int(fn),cel=cel))"
   ]
  },
  {
   "cell_type": "markdown",
   "metadata": {},
   "source": [
    "### Exercise 09"
   ]
  },
  {
   "cell_type": "code",
   "execution_count": 14,
   "metadata": {},
   "outputs": [
    {
     "name": "stdout",
     "output_type": "stream",
     "text": [
      "201\n"
     ]
    }
   ],
   "source": [
    "a = [8, 120, 83, 89, 24, 97.5, 201]\n",
    "print(max(a))"
   ]
  },
  {
   "cell_type": "markdown",
   "metadata": {},
   "source": [
    "### Exercise 10"
   ]
  },
  {
   "cell_type": "code",
   "execution_count": 15,
   "metadata": {},
   "outputs": [
    {
     "name": "stdout",
     "output_type": "stream",
     "text": [
      "Factorial of 4 is 24\n"
     ]
    }
   ],
   "source": [
    "Number = int(input('Enter a Number to Calculate its Factorial:'))\n",
    "\n",
    "Factorial = 1\n",
    "if Number < 0:\n",
    "   print(\"Sorry, factorial does not exist for negative numbers\")\n",
    "elif Number == 0:\n",
    "   print(\"Factorial of 0 is 1\")\n",
    "else:\n",
    "   for i in range(1,Number + 1):\n",
    "       Factorial = Factorial*i\n",
    "   print('Factorial of {N} is {f}'.format(N=Number,f=Factorial)) "
   ]
  },
  {
   "cell_type": "markdown",
   "metadata": {},
   "source": [
    "### Exercise 11"
   ]
  },
  {
   "cell_type": "code",
   "execution_count": null,
   "metadata": {},
   "outputs": [],
   "source": [
    "from random import randint\n",
    "\n",
    "desired_num = randint(1,100)\n",
    "\n",
    "while (True):\n",
    "    guessed_num = int(input('Enter a Number:'))\n",
    "    if guessed_num > desired_num:\n",
    "        print(\"Wrong, Guess the lower number!\")\n",
    "    elif guessed_num < desired_num:\n",
    "        print(\"Wrong, Guess the higher number!\")\n",
    "    elif guessed_num == desired_num:\n",
    "        print(\"Correct, good job\")\n",
    "        break"
   ]
  },
  {
   "cell_type": "markdown",
   "metadata": {},
   "source": [
    "### Exercise 12"
   ]
  },
  {
   "cell_type": "code",
   "execution_count": 16,
   "metadata": {},
   "outputs": [
    {
     "name": "stdout",
     "output_type": "stream",
     "text": [
      "0 x 0 = 0\n",
      "1 x 1 = 1\n",
      "2 x 2 = 4\n",
      "3 x 3 = 9\n",
      "4 x 4 = 16\n",
      "5 x 5 = 25\n",
      "6 x 6 = 36\n",
      "7 x 7 = 49\n",
      "8 x 8 = 64\n",
      "9 x 9 = 81\n",
      "10 x 10 = 100\n"
     ]
    }
   ],
   "source": [
    "for i in range(11):\n",
    "    print('{} x {} = {}'.format(i,i,i**2))"
   ]
  },
  {
   "cell_type": "markdown",
   "metadata": {},
   "source": [
    "### Exercise 13"
   ]
  },
  {
   "cell_type": "code",
   "execution_count": 17,
   "metadata": {},
   "outputs": [
    {
     "name": "stdout",
     "output_type": "stream",
     "text": [
      "The sum of all numbers is 15.\n"
     ]
    }
   ],
   "source": [
    "n = int(input('Input Number:'))\n",
    "sum = 0\n",
    "for i in range(n+1):\n",
    "    sum = sum + i\n",
    "print('The sum of all numbers is {}.'.format(sum))"
   ]
  },
  {
   "cell_type": "markdown",
   "metadata": {},
   "source": [
    "### Exercise 14"
   ]
  },
  {
   "cell_type": "code",
   "execution_count": 19,
   "metadata": {},
   "outputs": [
    {
     "name": "stdout",
     "output_type": "stream",
     "text": [
      "['lemon', 'mango', 'orange', 'banana']\n"
     ]
    }
   ],
   "source": [
    "L = ['banana', 'orange', 'mango', 'lemon']\n",
    "\n",
    "L1 = []\n",
    "for i in range(len(L)):\n",
    "    L1.append(L[len(L)-i-1])\n",
    "\n",
    "print(L1)"
   ]
  },
  {
   "cell_type": "markdown",
   "metadata": {},
   "source": [
    "fasdfafasdl;akjgaglkjahglkjagag"
   ]
  },
  {
   "cell_type": "markdown",
   "metadata": {},
   "source": [
    "fajsdkfjasfakl;f"
   ]
  },
  {
   "cell_type": "markdown",
   "metadata": {},
   "source": []
  }
 ],
 "metadata": {
  "kernelspec": {
   "display_name": "tf_env",
   "language": "python",
   "name": "python3"
  },
  "language_info": {
   "codemirror_mode": {
    "name": "ipython",
    "version": 3
   },
   "file_extension": ".py",
   "mimetype": "text/x-python",
   "name": "python",
   "nbconvert_exporter": "python",
   "pygments_lexer": "ipython3",
   "version": "3.9.16"
  }
 },
 "nbformat": 4,
 "nbformat_minor": 2
}
