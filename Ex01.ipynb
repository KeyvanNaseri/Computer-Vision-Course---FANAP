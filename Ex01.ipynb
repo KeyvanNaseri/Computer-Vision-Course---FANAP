{
 "cells": [
  {
   "cell_type": "code",
   "execution_count": 1,
   "metadata": {},
   "outputs": [
    {
     "name": "stdout",
     "output_type": "stream",
     "text": [
      "The Type of the \"Filoger\" is string\n",
      "The Type of the \"19\" is string\n",
      "The Type of the 18 is integer\n",
      "The Type of the 13.0 is float\n",
      "The Type of the True is boolean\n"
     ]
    }
   ],
   "source": [
    "print('The Type of the \"Filoger\" is {f}'.format(f = 'string'))\n",
    "print('The Type of the \"19\" is {f}'.format(f = 'string'))\n",
    "print('The Type of the 18 is {f}'.format(f = 'integer'))\n",
    "print('The Type of the 13.0 is {f}'.format(f = 'float'))\n",
    "print('The Type of the True is {f}'.format(f = 'boolean'))"
   ]
  },
  {
   "cell_type": "code",
   "execution_count": null,
   "metadata": {},
   "outputs": [],
   "source": []
  }
 ],
 "metadata": {
  "kernelspec": {
   "display_name": "tf_env",
   "language": "python",
   "name": "python3"
  },
  "language_info": {
   "codemirror_mode": {
    "name": "ipython",
    "version": 3
   },
   "file_extension": ".py",
   "mimetype": "text/x-python",
   "name": "python",
   "nbconvert_exporter": "python",
   "pygments_lexer": "ipython3",
   "version": "3.9.16"
  }
 },
 "nbformat": 4,
 "nbformat_minor": 2
}
